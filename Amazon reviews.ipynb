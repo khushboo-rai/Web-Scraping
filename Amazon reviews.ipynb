{
 "cells": [
  {
   "cell_type": "code",
   "execution_count": 2,
   "id": "4c490740",
   "metadata": {},
   "outputs": [],
   "source": [
    "import csv\n",
    "from bs4 import BeautifulSoup"
   ]
  },
  {
   "cell_type": "code",
   "execution_count": 3,
   "id": "c53d2f35",
   "metadata": {},
   "outputs": [],
   "source": [
    "from selenium import webdriver"
   ]
  },
  {
   "cell_type": "code",
   "execution_count": 4,
   "id": "f56aeb72",
   "metadata": {},
   "outputs": [],
   "source": [
    "from selenium import webdriver\n",
    "chrome_path = r\"C:\\Program Files\\mine\\chromedriver.exe\"\n",
    "driver = webdriver.Cfrom selenium import webdriverhrome(chrome_path)"
   ]
  },
  {
   "cell_type": "code",
   "execution_count": 7,
   "id": "2f972439",
   "metadata": {},
   "outputs": [],
   "source": [
    "url = 'http://www.amazon.com'\n",
    "driver.get(url)"
   ]
  },
  {
   "cell_type": "code",
   "execution_count": 8,
   "id": "5d9c660b",
   "metadata": {},
   "outputs": [],
   "source": [
    "import requests"
   ]
  },
  {
   "cell_type": "code",
   "execution_count": 9,
   "id": "e753503d",
   "metadata": {},
   "outputs": [],
   "source": [
    "def get_url(search_term):\n",
    "    template = 'https://www.amazon.com/s?k={}&crid=2C2JFIXCY64M7&sprefix=mi+%2Caps%2C443&ref=nb_sb_ss_ts-doa-p_1_3'\n",
    "    search_term = search_term.replace(' ', '+')\n",
    "    return template.format(search_term)"
   ]
  },
  {
   "cell_type": "code",
   "execution_count": 10,
   "id": "eb0daed0",
   "metadata": {},
   "outputs": [
    {
     "name": "stdout",
     "output_type": "stream",
     "text": [
      "https://www.amazon.com/s?k=mi+band+6&crid=2C2JFIXCY64M7&sprefix=mi+%2Caps%2C443&ref=nb_sb_ss_ts-doa-p_1_3\n"
     ]
    }
   ],
   "source": [
    "url = get_url('mi band 6')\n",
    "print(url)"
   ]
  },
  {
   "cell_type": "code",
   "execution_count": 11,
   "id": "f7fdcebc",
   "metadata": {},
   "outputs": [],
   "source": [
    "driver.get(url)"
   ]
  },
  {
   "cell_type": "code",
   "execution_count": 12,
   "id": "419b6b07",
   "metadata": {},
   "outputs": [],
   "source": [
    "link = 'https://www.amazon.com/Activity-Trackers-Temperature-Waterproof-Pedometer/dp/B08XZ68QFG/ref=sr_1_1_sspa?crid=2C2JFIXCY64M7&dchild=1&keywords=mi%2Bband%2B6&qid=1634402093&sprefix=mi%2B%2Caps%2C443&sr=8-1-spons&spLa=ZW5jcnlwdGVkUXVhbGlmaWVyPUEyRkg3OTcyTDdBNDRGJmVuY3J5cHRlZElkPUEwNTMwNDA1MkRJWldaUkUyUkdYSyZlbmNyeXB0ZWRBZElkPUEwNTY0NTc3MUY4OTExR0dBS0xSRyZ3aWRnZXROYW1lPXNwX2F0ZiZhY3Rpb249Y2xpY2tSZWRpcmVjdCZkb05vdExvZ0NsaWNrPXRydWU&th=1'"
   ]
  },
  {
   "cell_type": "code",
   "execution_count": 13,
   "id": "6ca6449d",
   "metadata": {},
   "outputs": [],
   "source": [
    "page = requests.get(link)"
   ]
  },
  {
   "cell_type": "code",
   "execution_count": 14,
   "id": "0fef142f",
   "metadata": {},
   "outputs": [
    {
     "data": {
      "text/plain": [
       "<Response [503]>"
      ]
     },
     "execution_count": 14,
     "metadata": {},
     "output_type": "execute_result"
    }
   ],
   "source": [
    "page"
   ]
  },
  {
   "cell_type": "code",
   "execution_count": 15,
   "id": "8e4daf1f",
   "metadata": {},
   "outputs": [],
   "source": [
    "soup = BeautifulSoup(driver.page_source,'html.parser')"
   ]
  },
  {
   "cell_type": "code",
   "execution_count": 16,
   "id": "3be6dfd9",
   "metadata": {},
   "outputs": [],
   "source": [
    "results = soup.find_all('div', {'data-component-type': 's-search-result'})"
   ]
  },
  {
   "cell_type": "code",
   "execution_count": 17,
   "id": "b8648c73",
   "metadata": {},
   "outputs": [
    {
     "data": {
      "text/plain": [
       "22"
      ]
     },
     "execution_count": 17,
     "metadata": {},
     "output_type": "execute_result"
    }
   ],
   "source": [
    "len(results)"
   ]
  },
  {
   "cell_type": "code",
   "execution_count": 18,
   "id": "189b7db4",
   "metadata": {},
   "outputs": [],
   "source": [
    "names = soup.find_all('span',class_='a-profile-name')"
   ]
  },
  {
   "cell_type": "code",
   "execution_count": 19,
   "id": "ebf2f566",
   "metadata": {},
   "outputs": [
    {
     "data": {
      "text/plain": [
       "[]"
      ]
     },
     "execution_count": 19,
     "metadata": {},
     "output_type": "execute_result"
    }
   ],
   "source": [
    "names"
   ]
  },
  {
   "cell_type": "code",
   "execution_count": 20,
   "id": "a2c48f9f",
   "metadata": {},
   "outputs": [
    {
     "data": {
      "text/plain": [
       "0"
      ]
     },
     "execution_count": 20,
     "metadata": {},
     "output_type": "execute_result"
    }
   ],
   "source": [
    "len(names)"
   ]
  },
  {
   "cell_type": "code",
   "execution_count": 21,
   "id": "afbf45a6",
   "metadata": {},
   "outputs": [
    {
     "data": {
      "text/plain": [
       "[]"
      ]
     },
     "execution_count": 21,
     "metadata": {},
     "output_type": "execute_result"
    }
   ],
   "source": [
    "cust_name = []\n",
    "for i in range(0,len(names)):\n",
    "    cust_name.append(names[i].get_text())\n",
    "cust_name"
   ]
  },
  {
   "cell_type": "code",
   "execution_count": 22,
   "id": "f8e8e460",
   "metadata": {},
   "outputs": [],
   "source": [
    "title = soup.find_all('a',class_='review-title-content')"
   ]
  },
  {
   "cell_type": "code",
   "execution_count": 23,
   "id": "38403ee5",
   "metadata": {},
   "outputs": [
    {
     "data": {
      "text/plain": [
       "[]"
      ]
     },
     "execution_count": 23,
     "metadata": {},
     "output_type": "execute_result"
    }
   ],
   "source": [
    "title"
   ]
  },
  {
   "cell_type": "code",
   "execution_count": 24,
   "id": "f72cd3b1",
   "metadata": {},
   "outputs": [
    {
     "data": {
      "text/plain": [
       "[]"
      ]
     },
     "execution_count": 24,
     "metadata": {},
     "output_type": "execute_result"
    }
   ],
   "source": [
    "review_title = []\n",
    "for i in range(0,len(title)):\n",
    "    review_title.append(title[i].get_text())\n",
    "review_title"
   ]
  },
  {
   "cell_type": "code",
   "execution_count": 25,
   "id": "12e50da0",
   "metadata": {},
   "outputs": [],
   "source": [
    "review_title[:] = [titles.lstrip('\\n') for titles in review_title]"
   ]
  },
  {
   "cell_type": "code",
   "execution_count": 26,
   "id": "8f42c043",
   "metadata": {},
   "outputs": [
    {
     "data": {
      "text/plain": [
       "[]"
      ]
     },
     "execution_count": 26,
     "metadata": {},
     "output_type": "execute_result"
    }
   ],
   "source": [
    "review_title"
   ]
  },
  {
   "cell_type": "code",
   "execution_count": 27,
   "id": "a25c6124",
   "metadata": {},
   "outputs": [],
   "source": [
    "rating = soup.find_all('i',class_='review-rating')"
   ]
  },
  {
   "cell_type": "code",
   "execution_count": 28,
   "id": "c23a53b8",
   "metadata": {},
   "outputs": [
    {
     "data": {
      "text/plain": [
       "[]"
      ]
     },
     "execution_count": 28,
     "metadata": {},
     "output_type": "execute_result"
    }
   ],
   "source": [
    "rating"
   ]
  },
  {
   "cell_type": "code",
   "execution_count": 29,
   "id": "458a7d38",
   "metadata": {},
   "outputs": [
    {
     "data": {
      "text/plain": [
       "[]"
      ]
     },
     "execution_count": 29,
     "metadata": {},
     "output_type": "execute_result"
    }
   ],
   "source": [
    "rate = []\n",
    "for i in range(0,len(rating)):\n",
    "    rate.append(rating[i].get_text())\n",
    "rate"
   ]
  },
  {
   "cell_type": "code",
   "execution_count": 30,
   "id": "861b567a",
   "metadata": {},
   "outputs": [
    {
     "data": {
      "text/plain": [
       "0"
      ]
     },
     "execution_count": 30,
     "metadata": {},
     "output_type": "execute_result"
    }
   ],
   "source": [
    "len(rate)"
   ]
  },
  {
   "cell_type": "code",
   "execution_count": 31,
   "id": "d7fedab5",
   "metadata": {
    "scrolled": true
   },
   "outputs": [
    {
     "data": {
      "text/plain": [
       "[]"
      ]
     },
     "execution_count": 31,
     "metadata": {},
     "output_type": "execute_result"
    }
   ],
   "source": [
    "review = soup.find_all(\"div\",{\"data-hook\":\"review-collapsed\"})\n",
    "review"
   ]
  },
  {
   "cell_type": "code",
   "execution_count": 32,
   "id": "84b9d40e",
   "metadata": {
    "scrolled": true
   },
   "outputs": [
    {
     "data": {
      "text/plain": [
       "[]"
      ]
     },
     "execution_count": 32,
     "metadata": {},
     "output_type": "execute_result"
    }
   ],
   "source": [
    "review_content = []\n",
    "for i in range(0,len(review)):\n",
    "    review_content.append(review[i].get_text())\n",
    "review_content"
   ]
  },
  {
   "cell_type": "code",
   "execution_count": 33,
   "id": "b6f501ec",
   "metadata": {
    "scrolled": true
   },
   "outputs": [
    {
     "data": {
      "text/plain": [
       "[]"
      ]
     },
     "execution_count": 33,
     "metadata": {},
     "output_type": "execute_result"
    }
   ],
   "source": [
    "review_content[:] = [review.lstrip('\\n') for review in review_content]\n",
    "review_content"
   ]
  },
  {
   "cell_type": "code",
   "execution_count": 34,
   "id": "3f385aa6",
   "metadata": {
    "scrolled": true
   },
   "outputs": [
    {
     "data": {
      "text/plain": [
       "[]"
      ]
     },
     "execution_count": 34,
     "metadata": {},
     "output_type": "execute_result"
    }
   ],
   "source": [
    "review_content[:] = [review.rstrip('\\n') for review in review_content]\n",
    "review_content"
   ]
  },
  {
   "cell_type": "code",
   "execution_count": 35,
   "id": "7bbfa6fc",
   "metadata": {},
   "outputs": [],
   "source": [
    "import pandas as pd "
   ]
  },
  {
   "cell_type": "code",
   "execution_count": 36,
   "id": "030b197d",
   "metadata": {},
   "outputs": [],
   "source": [
    "df = pd.DataFrame()"
   ]
  },
  {
   "cell_type": "code",
   "execution_count": 37,
   "id": "8dc9b523",
   "metadata": {},
   "outputs": [
    {
     "data": {
      "text/html": [
       "<div>\n",
       "<style scoped>\n",
       "    .dataframe tbody tr th:only-of-type {\n",
       "        vertical-align: middle;\n",
       "    }\n",
       "\n",
       "    .dataframe tbody tr th {\n",
       "        vertical-align: top;\n",
       "    }\n",
       "\n",
       "    .dataframe thead th {\n",
       "        text-align: right;\n",
       "    }\n",
       "</style>\n",
       "<table border=\"1\" class=\"dataframe\">\n",
       "  <thead>\n",
       "    <tr style=\"text-align: right;\">\n",
       "      <th></th>\n",
       "      <th>Customer Name</th>\n",
       "    </tr>\n",
       "  </thead>\n",
       "  <tbody>\n",
       "  </tbody>\n",
       "</table>\n",
       "</div>"
      ],
      "text/plain": [
       "Empty DataFrame\n",
       "Columns: [Customer Name]\n",
       "Index: []"
      ]
     },
     "execution_count": 37,
     "metadata": {},
     "output_type": "execute_result"
    }
   ],
   "source": [
    "df['Customer Name'] = cust_name\n",
    "df"
   ]
  },
  {
   "cell_type": "code",
   "execution_count": 38,
   "id": "21a6f688",
   "metadata": {},
   "outputs": [],
   "source": [
    "df['Review Title'] = review_title\n",
    "df['Review Rating'] = rate\n",
    "df['Reviews'] = review_content"
   ]
  },
  {
   "cell_type": "code",
   "execution_count": 39,
   "id": "fbfe9447",
   "metadata": {},
   "outputs": [
    {
     "data": {
      "text/html": [
       "<div>\n",
       "<style scoped>\n",
       "    .dataframe tbody tr th:only-of-type {\n",
       "        vertical-align: middle;\n",
       "    }\n",
       "\n",
       "    .dataframe tbody tr th {\n",
       "        vertical-align: top;\n",
       "    }\n",
       "\n",
       "    .dataframe thead th {\n",
       "        text-align: right;\n",
       "    }\n",
       "</style>\n",
       "<table border=\"1\" class=\"dataframe\">\n",
       "  <thead>\n",
       "    <tr style=\"text-align: right;\">\n",
       "      <th></th>\n",
       "      <th>Customer Name</th>\n",
       "      <th>Review Title</th>\n",
       "      <th>Review Rating</th>\n",
       "      <th>Reviews</th>\n",
       "    </tr>\n",
       "  </thead>\n",
       "  <tbody>\n",
       "  </tbody>\n",
       "</table>\n",
       "</div>"
      ],
      "text/plain": [
       "Empty DataFrame\n",
       "Columns: [Customer Name, Review Title, Review Rating, Reviews]\n",
       "Index: []"
      ]
     },
     "execution_count": 39,
     "metadata": {},
     "output_type": "execute_result"
    }
   ],
   "source": [
    "df"
   ]
  },
  {
   "cell_type": "code",
   "execution_count": 40,
   "id": "c9e525f1",
   "metadata": {},
   "outputs": [],
   "source": [
    "df.to_csv(r'E:\\Review.csv',index=True)"
   ]
  },
  {
   "cell_type": "code",
   "execution_count": 41,
   "id": "b98a9d06",
   "metadata": {},
   "outputs": [
    {
     "data": {
      "text/html": [
       "<div>\n",
       "<style scoped>\n",
       "    .dataframe tbody tr th:only-of-type {\n",
       "        vertical-align: middle;\n",
       "    }\n",
       "\n",
       "    .dataframe tbody tr th {\n",
       "        vertical-align: top;\n",
       "    }\n",
       "\n",
       "    .dataframe thead th {\n",
       "        text-align: right;\n",
       "    }\n",
       "</style>\n",
       "<table border=\"1\" class=\"dataframe\">\n",
       "  <thead>\n",
       "    <tr style=\"text-align: right;\">\n",
       "      <th></th>\n",
       "      <th>Unnamed: 0</th>\n",
       "      <th>Customer Name</th>\n",
       "      <th>Review Title</th>\n",
       "      <th>Review Rating</th>\n",
       "      <th>Reviews</th>\n",
       "    </tr>\n",
       "  </thead>\n",
       "  <tbody>\n",
       "    <tr>\n",
       "      <th>0</th>\n",
       "      <td>0</td>\n",
       "      <td>Tim Roberts</td>\n",
       "      <td>Ok for the price!  UPDATE\\n</td>\n",
       "      <td>5.0 out of 5 stars</td>\n",
       "      <td>Bought on for my wife and one for myself. Mi...</td>\n",
       "    </tr>\n",
       "    <tr>\n",
       "      <th>1</th>\n",
       "      <td>1</td>\n",
       "      <td>Lisa M. McLeod</td>\n",
       "      <td>Great little fitness tracker.\\n</td>\n",
       "      <td>5.0 out of 5 stars</td>\n",
       "      <td>I only wanted something to track my steps. T...</td>\n",
       "    </tr>\n",
       "    <tr>\n",
       "      <th>2</th>\n",
       "      <td>2</td>\n",
       "      <td>Bauervision</td>\n",
       "      <td>Great fitness tracker starting point\\n</td>\n",
       "      <td>4.0 out of 5 stars</td>\n",
       "      <td>It's one of the cheapest trackers out there ...</td>\n",
       "    </tr>\n",
       "    <tr>\n",
       "      <th>3</th>\n",
       "      <td>3</td>\n",
       "      <td>Bret Choitz</td>\n",
       "      <td>You get what you pay for... And dead in 2.5 Mo...</td>\n",
       "      <td>2.0 out of 5 stars</td>\n",
       "      <td>The price is good.  I wanted a heart rate mo...</td>\n",
       "    </tr>\n",
       "    <tr>\n",
       "      <th>4</th>\n",
       "      <td>4</td>\n",
       "      <td>April Eubanks (Pick Me!)</td>\n",
       "      <td>Save your time and frustration on this one\\n</td>\n",
       "      <td>2.0 out of 5 stars</td>\n",
       "      <td>The tracker itself is never correct. My step...</td>\n",
       "    </tr>\n",
       "  </tbody>\n",
       "</table>\n",
       "</div>"
      ],
      "text/plain": [
       "   Unnamed: 0             Customer Name  \\\n",
       "0           0               Tim Roberts   \n",
       "1           1            Lisa M. McLeod   \n",
       "2           2               Bauervision   \n",
       "3           3               Bret Choitz   \n",
       "4           4  April Eubanks (Pick Me!)   \n",
       "\n",
       "                                        Review Title       Review Rating  \\\n",
       "0                        Ok for the price!  UPDATE\\n  5.0 out of 5 stars   \n",
       "1                    Great little fitness tracker.\\n  5.0 out of 5 stars   \n",
       "2             Great fitness tracker starting point\\n  4.0 out of 5 stars   \n",
       "3  You get what you pay for... And dead in 2.5 Mo...  2.0 out of 5 stars   \n",
       "4       Save your time and frustration on this one\\n  2.0 out of 5 stars   \n",
       "\n",
       "                                             Reviews  \n",
       "0    Bought on for my wife and one for myself. Mi...  \n",
       "1    I only wanted something to track my steps. T...  \n",
       "2    It's one of the cheapest trackers out there ...  \n",
       "3    The price is good.  I wanted a heart rate mo...  \n",
       "4    The tracker itself is never correct. My step...  "
      ]
     },
     "execution_count": 41,
     "metadata": {},
     "output_type": "execute_result"
    }
   ],
   "source": [
    "import pandas as pd\n",
    "products = pd.read_csv('Review.csv')\n",
    "products.head()"
   ]
  },
  {
   "cell_type": "code",
   "execution_count": 42,
   "id": "946afd68",
   "metadata": {},
   "outputs": [],
   "source": [
    "import pandas as pd \n",
    "import numpy as np\n",
    "from textblob import TextBlob\n",
    "import seaborn as sns\n",
    "import matplotlib.pyplot as plt\n",
    "%matplotlib inline"
   ]
  },
  {
   "cell_type": "code",
   "execution_count": 43,
   "id": "97c6cdbb",
   "metadata": {},
   "outputs": [
    {
     "data": {
      "text/html": [
       "<div>\n",
       "<style scoped>\n",
       "    .dataframe tbody tr th:only-of-type {\n",
       "        vertical-align: middle;\n",
       "    }\n",
       "\n",
       "    .dataframe tbody tr th {\n",
       "        vertical-align: top;\n",
       "    }\n",
       "\n",
       "    .dataframe thead th {\n",
       "        text-align: right;\n",
       "    }\n",
       "</style>\n",
       "<table border=\"1\" class=\"dataframe\">\n",
       "  <thead>\n",
       "    <tr style=\"text-align: right;\">\n",
       "      <th></th>\n",
       "      <th>Unnamed: 0</th>\n",
       "      <th>Customer Name</th>\n",
       "      <th>Review Title</th>\n",
       "      <th>Review Rating</th>\n",
       "      <th>Reviews</th>\n",
       "    </tr>\n",
       "  </thead>\n",
       "  <tbody>\n",
       "    <tr>\n",
       "      <th>0</th>\n",
       "      <td>0</td>\n",
       "      <td>Tim Roberts</td>\n",
       "      <td>Ok for the price!  UPDATE\\n</td>\n",
       "      <td>5.0 out of 5 stars</td>\n",
       "      <td>Bought on for my wife and one for myself. Mi...</td>\n",
       "    </tr>\n",
       "    <tr>\n",
       "      <th>1</th>\n",
       "      <td>1</td>\n",
       "      <td>Lisa M. McLeod</td>\n",
       "      <td>Great little fitness tracker.\\n</td>\n",
       "      <td>5.0 out of 5 stars</td>\n",
       "      <td>I only wanted something to track my steps. T...</td>\n",
       "    </tr>\n",
       "    <tr>\n",
       "      <th>2</th>\n",
       "      <td>2</td>\n",
       "      <td>Bauervision</td>\n",
       "      <td>Great fitness tracker starting point\\n</td>\n",
       "      <td>4.0 out of 5 stars</td>\n",
       "      <td>It's one of the cheapest trackers out there ...</td>\n",
       "    </tr>\n",
       "    <tr>\n",
       "      <th>3</th>\n",
       "      <td>3</td>\n",
       "      <td>Bret Choitz</td>\n",
       "      <td>You get what you pay for... And dead in 2.5 Mo...</td>\n",
       "      <td>2.0 out of 5 stars</td>\n",
       "      <td>The price is good.  I wanted a heart rate mo...</td>\n",
       "    </tr>\n",
       "    <tr>\n",
       "      <th>4</th>\n",
       "      <td>4</td>\n",
       "      <td>April Eubanks (Pick Me!)</td>\n",
       "      <td>Save your time and frustration on this one\\n</td>\n",
       "      <td>2.0 out of 5 stars</td>\n",
       "      <td>The tracker itself is never correct. My step...</td>\n",
       "    </tr>\n",
       "    <tr>\n",
       "      <th>5</th>\n",
       "      <td>5</td>\n",
       "      <td>Grandma BJ</td>\n",
       "      <td>Not real happy\\n</td>\n",
       "      <td>3.0 out of 5 stars</td>\n",
       "      <td>I received my fitness tracker on August 4th ...</td>\n",
       "    </tr>\n",
       "    <tr>\n",
       "      <th>6</th>\n",
       "      <td>6</td>\n",
       "      <td>CJ</td>\n",
       "      <td>Intuitive, light weight and does what it says ...</td>\n",
       "      <td>5.0 out of 5 stars</td>\n",
       "      <td>I bought 3 of these watches as gifts, they a...</td>\n",
       "    </tr>\n",
       "    <tr>\n",
       "      <th>7</th>\n",
       "      <td>7</td>\n",
       "      <td>Tammy French</td>\n",
       "      <td>Great item for the price\\n</td>\n",
       "      <td>5.0 out of 5 stars</td>\n",
       "      <td>I was looking for an inexpensive fitness tra...</td>\n",
       "    </tr>\n",
       "  </tbody>\n",
       "</table>\n",
       "</div>"
      ],
      "text/plain": [
       "   Unnamed: 0             Customer Name  \\\n",
       "0           0               Tim Roberts   \n",
       "1           1            Lisa M. McLeod   \n",
       "2           2               Bauervision   \n",
       "3           3               Bret Choitz   \n",
       "4           4  April Eubanks (Pick Me!)   \n",
       "5           5                Grandma BJ   \n",
       "6           6                        CJ   \n",
       "7           7              Tammy French   \n",
       "\n",
       "                                        Review Title       Review Rating  \\\n",
       "0                        Ok for the price!  UPDATE\\n  5.0 out of 5 stars   \n",
       "1                    Great little fitness tracker.\\n  5.0 out of 5 stars   \n",
       "2             Great fitness tracker starting point\\n  4.0 out of 5 stars   \n",
       "3  You get what you pay for... And dead in 2.5 Mo...  2.0 out of 5 stars   \n",
       "4       Save your time and frustration on this one\\n  2.0 out of 5 stars   \n",
       "5                                   Not real happy\\n  3.0 out of 5 stars   \n",
       "6  Intuitive, light weight and does what it says ...  5.0 out of 5 stars   \n",
       "7                         Great item for the price\\n  5.0 out of 5 stars   \n",
       "\n",
       "                                             Reviews  \n",
       "0    Bought on for my wife and one for myself. Mi...  \n",
       "1    I only wanted something to track my steps. T...  \n",
       "2    It's one of the cheapest trackers out there ...  \n",
       "3    The price is good.  I wanted a heart rate mo...  \n",
       "4    The tracker itself is never correct. My step...  \n",
       "5    I received my fitness tracker on August 4th ...  \n",
       "6    I bought 3 of these watches as gifts, they a...  \n",
       "7    I was looking for an inexpensive fitness tra...  "
      ]
     },
     "execution_count": 43,
     "metadata": {},
     "output_type": "execute_result"
    }
   ],
   "source": [
    "import pandas as pd\n",
    "data = pd.read_csv('Review.csv')\n",
    "data = data.head(10)\n",
    "data.dropna()"
   ]
  },
  {
   "cell_type": "code",
   "execution_count": 44,
   "id": "44a52848",
   "metadata": {},
   "outputs": [
    {
     "data": {
      "text/plain": [
       "<seaborn.axisgrid.FacetGrid at 0x27385ddcee0>"
      ]
     },
     "execution_count": 44,
     "metadata": {},
     "output_type": "execute_result"
    },
    {
     "data": {
      "image/png": "[encoded data removed]",
      "text/plain": [
       "<Figure size 360x360 with 1 Axes>"
      ]
     },
     "metadata": {
      "needs_background": "light"
     },
     "output_type": "display_data"
    }
   ],
   "source": [
    "sns.displot(data['Review Rating'])"
   ]
  },
  {
   "cell_type": "code",
   "execution_count": 45,
   "id": "91e90fa4",
   "metadata": {},
   "outputs": [
    {
     "data": {
      "text/plain": [
       "<AxesSubplot:xlabel='Review Rating', ylabel='count'>"
      ]
     },
     "execution_count": 45,
     "metadata": {},
     "output_type": "execute_result"
    },
    {
     "data": {
      "image/png": "[encoded data removed]",
      "text/plain": [
       "<Figure size 432x288 with 1 Axes>"
      ]
     },
     "metadata": {
      "needs_background": "light"
     },
     "output_type": "display_data"
    }
   ],
   "source": [
    "sns.countplot(x='Review Rating',data=data)"
   ]
  },
  {
   "cell_type": "code",
   "execution_count": 50,
   "id": "67bb02fb",
   "metadata": {},
   "outputs": [
    {
     "data": {
      "text/plain": [
       "'  I received my fitness tracker on August 4th and started the set up immediately.  While I do not like to leave bad reviews I have to list the problems I have encountered.  The app was easy to install but it did not want to link up with the tracker, after several tries I finally got them to sync.  I find that the only feature that works is the time, the step count is off, the temp is never close to being normal range and the BP should have me in the hospital with its ranges.  I am sure it is a bad unit as others seem to have no problem.  I do really like the sleekness of the tracker and the band is wonderful and fits perfect.  Unfortunately it will have to be returned.'"
      ]
     },
     "execution_count": 50,
     "metadata": {},
     "output_type": "execute_result"
    }
   ],
   "source": [
    "data['Reviews'][5]"
   ]
  },
  {
   "cell_type": "code",
   "execution_count": 63,
   "id": "f12dfff4",
   "metadata": {},
   "outputs": [
    {
     "data": {
      "text/plain": [
       "0"
      ]
     },
     "execution_count": 63,
     "metadata": {},
     "output_type": "execute_result"
    }
   ],
   "source": [
    "len(products) - len(products.dropna())"
   ]
  },
  {
   "cell_type": "code",
   "execution_count": 64,
   "id": "025fbb22",
   "metadata": {},
   "outputs": [
    {
     "data": {
      "text/plain": [
       "8"
      ]
     },
     "execution_count": 64,
     "metadata": {},
     "output_type": "execute_result"
    }
   ],
   "source": [
    "len(products)"
   ]
  },
  {
   "cell_type": "code",
   "execution_count": 120,
   "id": "177a92da",
   "metadata": {},
   "outputs": [],
   "source": [
    "for i in range(0,len(products)-1):\n",
    "    if type(products.iloc[i]['Reviews']) != str:\n",
    "        products.iloc[i]['Reviews'] = str(products.iloc[i]['Review'])"
   ]
  },
  {
   "cell_type": "code",
   "execution_count": 121,
   "id": "abff04ec",
   "metadata": {},
   "outputs": [],
   "source": [
    "products = products[products['Review Rating'] != 3]"
   ]
  },
  {
   "cell_type": "code",
   "execution_count": 129,
   "id": "1700310b",
   "metadata": {},
   "outputs": [
    {
     "data": {
      "text/html": [
       "<div>\n",
       "<style scoped>\n",
       "    .dataframe tbody tr th:only-of-type {\n",
       "        vertical-align: middle;\n",
       "    }\n",
       "\n",
       "    .dataframe tbody tr th {\n",
       "        vertical-align: top;\n",
       "    }\n",
       "\n",
       "    .dataframe thead th {\n",
       "        text-align: right;\n",
       "    }\n",
       "</style>\n",
       "<table border=\"1\" class=\"dataframe\">\n",
       "  <thead>\n",
       "    <tr style=\"text-align: right;\">\n",
       "      <th></th>\n",
       "      <th>Unnamed: 0</th>\n",
       "      <th>Customer Name</th>\n",
       "      <th>Review Title</th>\n",
       "      <th>Review Rating</th>\n",
       "      <th>Reviews</th>\n",
       "      <th>sentiment</th>\n",
       "    </tr>\n",
       "  </thead>\n",
       "  <tbody>\n",
       "    <tr>\n",
       "      <th>0</th>\n",
       "      <td>0</td>\n",
       "      <td>Tim Roberts</td>\n",
       "      <td>Ok for the price!  UPDATE\\n</td>\n",
       "      <td>5.0 out of 5 stars</td>\n",
       "      <td>Bought on for my wife and one for myself. Mi...</td>\n",
       "      <td>1</td>\n",
       "    </tr>\n",
       "    <tr>\n",
       "      <th>1</th>\n",
       "      <td>1</td>\n",
       "      <td>Lisa M. McLeod</td>\n",
       "      <td>Great little fitness tracker.\\n</td>\n",
       "      <td>5.0 out of 5 stars</td>\n",
       "      <td>I only wanted something to track my steps. T...</td>\n",
       "      <td>1</td>\n",
       "    </tr>\n",
       "    <tr>\n",
       "      <th>2</th>\n",
       "      <td>2</td>\n",
       "      <td>Bauervision</td>\n",
       "      <td>Great fitness tracker starting point\\n</td>\n",
       "      <td>4.0 out of 5 stars</td>\n",
       "      <td>It's one of the cheapest trackers out there ...</td>\n",
       "      <td>1</td>\n",
       "    </tr>\n",
       "    <tr>\n",
       "      <th>3</th>\n",
       "      <td>3</td>\n",
       "      <td>Bret Choitz</td>\n",
       "      <td>You get what you pay for... And dead in 2.5 Mo...</td>\n",
       "      <td>2.0 out of 5 stars</td>\n",
       "      <td>The price is good.  I wanted a heart rate mo...</td>\n",
       "      <td>0</td>\n",
       "    </tr>\n",
       "    <tr>\n",
       "      <th>4</th>\n",
       "      <td>4</td>\n",
       "      <td>April Eubanks (Pick Me!)</td>\n",
       "      <td>Save your time and frustration on this one\\n</td>\n",
       "      <td>2.0 out of 5 stars</td>\n",
       "      <td>The tracker itself is never correct. My step...</td>\n",
       "      <td>0</td>\n",
       "    </tr>\n",
       "  </tbody>\n",
       "</table>\n",
       "</div>"
      ],
      "text/plain": [
       "   Unnamed: 0             Customer Name  \\\n",
       "0           0               Tim Roberts   \n",
       "1           1            Lisa M. McLeod   \n",
       "2           2               Bauervision   \n",
       "3           3               Bret Choitz   \n",
       "4           4  April Eubanks (Pick Me!)   \n",
       "\n",
       "                                        Review Title       Review Rating  \\\n",
       "0                        Ok for the price!  UPDATE\\n  5.0 out of 5 stars   \n",
       "1                    Great little fitness tracker.\\n  5.0 out of 5 stars   \n",
       "2             Great fitness tracker starting point\\n  4.0 out of 5 stars   \n",
       "3  You get what you pay for... And dead in 2.5 Mo...  2.0 out of 5 stars   \n",
       "4       Save your time and frustration on this one\\n  2.0 out of 5 stars   \n",
       "\n",
       "                                             Reviews  sentiment  \n",
       "0    Bought on for my wife and one for myself. Mi...          1  \n",
       "1    I only wanted something to track my steps. T...          1  \n",
       "2    It's one of the cheapest trackers out there ...          1  \n",
       "3    The price is good.  I wanted a heart rate mo...          0  \n",
       "4    The tracker itself is never correct. My step...          0  "
      ]
     },
     "execution_count": 129,
     "metadata": {},
     "output_type": "execute_result"
    }
   ],
   "source": [
    "def sentiment(n):\n",
    "        n=n.split(\" \")[0]\n",
    "        if float(n) >= 4: \n",
    "            return 1\n",
    "        else:\n",
    "            return 0\n",
    "products['sentiment'] = products['Review Rating'].apply(sentiment)\n",
    "products.head()"
   ]
  },
  {
   "cell_type": "code",
   "execution_count": 128,
   "id": "da9048ea",
   "metadata": {},
   "outputs": [
    {
     "data": {
      "text/plain": [
       "array(['5.0 out of 5 stars', '4.0 out of 5 stars', '2.0 out of 5 stars',\n",
       "       '3.0 out of 5 stars'], dtype=object)"
      ]
     },
     "execution_count": 128,
     "metadata": {},
     "output_type": "execute_result"
    }
   ],
   "source": [
    "products[\"Review Rating\" ].unique()"
   ]
  },
  {
   "cell_type": "code",
   "execution_count": 130,
   "id": "b04ffe99",
   "metadata": {},
   "outputs": [
    {
     "data": {
      "text/html": [
       "<div>\n",
       "<style scoped>\n",
       "    .dataframe tbody tr th:only-of-type {\n",
       "        vertical-align: middle;\n",
       "    }\n",
       "\n",
       "    .dataframe tbody tr th {\n",
       "        vertical-align: top;\n",
       "    }\n",
       "\n",
       "    .dataframe thead th {\n",
       "        text-align: right;\n",
       "    }\n",
       "</style>\n",
       "<table border=\"1\" class=\"dataframe\">\n",
       "  <thead>\n",
       "    <tr style=\"text-align: right;\">\n",
       "      <th></th>\n",
       "      <th>Unnamed: 0</th>\n",
       "      <th>Customer Name</th>\n",
       "      <th>Review Title</th>\n",
       "      <th>Review Rating</th>\n",
       "      <th>Reviews</th>\n",
       "      <th>sentiment</th>\n",
       "      <th>all_features</th>\n",
       "    </tr>\n",
       "  </thead>\n",
       "  <tbody>\n",
       "    <tr>\n",
       "      <th>0</th>\n",
       "      <td>0</td>\n",
       "      <td>Tim Roberts</td>\n",
       "      <td>Ok for the price!  UPDATE\\n</td>\n",
       "      <td>5.0 out of 5 stars</td>\n",
       "      <td>Bought on for my wife and one for myself. Mi...</td>\n",
       "      <td>1</td>\n",
       "      <td>Tim Roberts 5.0 out of 5 stars</td>\n",
       "    </tr>\n",
       "    <tr>\n",
       "      <th>1</th>\n",
       "      <td>1</td>\n",
       "      <td>Lisa M. McLeod</td>\n",
       "      <td>Great little fitness tracker.\\n</td>\n",
       "      <td>5.0 out of 5 stars</td>\n",
       "      <td>I only wanted something to track my steps. T...</td>\n",
       "      <td>1</td>\n",
       "      <td>Lisa M. McLeod 5.0 out of 5 stars</td>\n",
       "    </tr>\n",
       "    <tr>\n",
       "      <th>2</th>\n",
       "      <td>2</td>\n",
       "      <td>Bauervision</td>\n",
       "      <td>Great fitness tracker starting point\\n</td>\n",
       "      <td>4.0 out of 5 stars</td>\n",
       "      <td>It's one of the cheapest trackers out there ...</td>\n",
       "      <td>1</td>\n",
       "      <td>Bauervision 4.0 out of 5 stars</td>\n",
       "    </tr>\n",
       "    <tr>\n",
       "      <th>3</th>\n",
       "      <td>3</td>\n",
       "      <td>Bret Choitz</td>\n",
       "      <td>You get what you pay for... And dead in 2.5 Mo...</td>\n",
       "      <td>2.0 out of 5 stars</td>\n",
       "      <td>The price is good.  I wanted a heart rate mo...</td>\n",
       "      <td>0</td>\n",
       "      <td>Bret Choitz 2.0 out of 5 stars</td>\n",
       "    </tr>\n",
       "    <tr>\n",
       "      <th>4</th>\n",
       "      <td>4</td>\n",
       "      <td>April Eubanks (Pick Me!)</td>\n",
       "      <td>Save your time and frustration on this one\\n</td>\n",
       "      <td>2.0 out of 5 stars</td>\n",
       "      <td>The tracker itself is never correct. My step...</td>\n",
       "      <td>0</td>\n",
       "      <td>April Eubanks (Pick Me!) 2.0 out of 5 stars</td>\n",
       "    </tr>\n",
       "  </tbody>\n",
       "</table>\n",
       "</div>"
      ],
      "text/plain": [
       "   Unnamed: 0             Customer Name  \\\n",
       "0           0               Tim Roberts   \n",
       "1           1            Lisa M. McLeod   \n",
       "2           2               Bauervision   \n",
       "3           3               Bret Choitz   \n",
       "4           4  April Eubanks (Pick Me!)   \n",
       "\n",
       "                                        Review Title       Review Rating  \\\n",
       "0                        Ok for the price!  UPDATE\\n  5.0 out of 5 stars   \n",
       "1                    Great little fitness tracker.\\n  5.0 out of 5 stars   \n",
       "2             Great fitness tracker starting point\\n  4.0 out of 5 stars   \n",
       "3  You get what you pay for... And dead in 2.5 Mo...  2.0 out of 5 stars   \n",
       "4       Save your time and frustration on this one\\n  2.0 out of 5 stars   \n",
       "\n",
       "                                             Reviews  sentiment  \\\n",
       "0    Bought on for my wife and one for myself. Mi...          1   \n",
       "1    I only wanted something to track my steps. T...          1   \n",
       "2    It's one of the cheapest trackers out there ...          1   \n",
       "3    The price is good.  I wanted a heart rate mo...          0   \n",
       "4    The tracker itself is never correct. My step...          0   \n",
       "\n",
       "                                  all_features  \n",
       "0               Tim Roberts 5.0 out of 5 stars  \n",
       "1            Lisa M. McLeod 5.0 out of 5 stars  \n",
       "2               Bauervision 4.0 out of 5 stars  \n",
       "3               Bret Choitz 2.0 out of 5 stars  \n",
       "4  April Eubanks (Pick Me!) 2.0 out of 5 stars  "
      ]
     },
     "execution_count": 130,
     "metadata": {},
     "output_type": "execute_result"
    }
   ],
   "source": [
    "def combined_features(row):\n",
    "    return row['Customer Name'] + ' '+ row['Review Rating']\n",
    "products['all_features'] = products.apply(combined_features, axis=1)\n",
    "products.head()"
   ]
  },
  {
   "cell_type": "code",
   "execution_count": 131,
   "id": "64b87a79",
   "metadata": {},
   "outputs": [],
   "source": [
    "X = products['all_features']\n",
    "y = products['sentiment']"
   ]
  },
  {
   "cell_type": "code",
   "execution_count": 132,
   "id": "4f5e9ffa",
   "metadata": {},
   "outputs": [],
   "source": [
    "from sklearn.model_selection import train_test_split\n",
    "X_train, X_test, y_train, y_test = train_test_split(X, y, random_state=0)"
   ]
  },
  {
   "cell_type": "code",
   "execution_count": 133,
   "id": "91877768",
   "metadata": {},
   "outputs": [],
   "source": [
    "from sklearn.feature_extraction.text import CountVectorizer\n",
    "cv = CountVectorizer()\n",
    "ctmTr = cv.fit_transform(X_train)\n",
    "X_test_dtm = cv.transform(X_test)"
   ]
  },
  {
   "cell_type": "code",
   "execution_count": 134,
   "id": "aa9a4c14",
   "metadata": {},
   "outputs": [
    {
     "data": {
      "text/plain": [
       "LogisticRegression()"
      ]
     },
     "execution_count": 134,
     "metadata": {},
     "output_type": "execute_result"
    }
   ],
   "source": [
    "from sklearn.linear_model import LogisticRegression\n",
    "from sklearn.metrics import accuracy_score\n",
    "model = LogisticRegression()\n",
    "model.fit(ctmTr, y_train)"
   ]
  },
  {
   "cell_type": "code",
   "execution_count": 136,
   "id": "d5d4c3d8",
   "metadata": {},
   "outputs": [],
   "source": [
    "y_pred_class = model.predict(X_test_dtm)"
   ]
  },
  {
   "cell_type": "code",
   "execution_count": 138,
   "id": "256183d0",
   "metadata": {},
   "outputs": [
    {
     "data": {
      "text/plain": [
       "1.0"
      ]
     },
     "execution_count": 138,
     "metadata": {},
     "output_type": "execute_result"
    }
   ],
   "source": [
    "accuracy_score(y_test, y_pred_class)"
   ]
  },
  {
   "cell_type": "code",
   "execution_count": null,
   "id": "a82029d7",
   "metadata": {},
   "outputs": [],
   "source": []
  }
 ],
 "metadata": {
  "kernelspec": {
   "display_name": "Python 3",
   "language": "python",
   "name": "python3"
  },
  "language_info": {
   "codemirror_mode": {
    "name": "ipython",
    "version": 3
   },
   "file_extension": ".py",
   "mimetype": "text/x-python",
   "name": "python",
   "nbconvert_exporter": "python",
   "pygments_lexer": "ipython3",
   "version": "3.8.8"
  }
 },
 "nbformat": 4,
 "nbformat_minor": 5
}
